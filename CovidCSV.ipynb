{
 "cells": [
  {
   "cell_type": "code",
   "execution_count": 7,
   "metadata": {},
   "outputs": [],
   "source": [
    "import os\n",
    "import pandas as pd\n",
    "import pandasql as ps"
   ]
  },
  {
   "cell_type": "code",
   "execution_count": 18,
   "metadata": {},
   "outputs": [],
   "source": [
    "csv = pd.read_csv(\"C:\\\\Users\\\\sidra\\\\04-04-2020.csv\")"
   ]
  },
  {
   "cell_type": "code",
   "execution_count": 19,
   "metadata": {},
   "outputs": [
    {
     "name": "stdout",
     "output_type": "stream",
     "text": [
      "      FIPS     Admin2  Province_State Country_Region          Last_Update  \\\n",
      "0  45001.0  Abbeville  South Carolina             US  2020-04-04 23:34:21   \n",
      "1  22001.0     Acadia       Louisiana             US  2020-04-04 23:34:21   \n",
      "2  51001.0   Accomack        Virginia             US  2020-04-04 23:34:21   \n",
      "3  16001.0        Ada           Idaho             US  2020-04-04 23:34:21   \n",
      "4  19001.0      Adair            Iowa             US  2020-04-04 23:34:21   \n",
      "5  21001.0      Adair        Kentucky             US  2020-04-04 23:34:21   \n",
      "6  29001.0      Adair        Missouri             US  2020-04-04 23:34:21   \n",
      "7  40001.0      Adair        Oklahoma             US  2020-04-04 23:34:21   \n",
      "8   8001.0      Adams        Colorado             US  2020-04-04 23:34:21   \n",
      "9  16003.0      Adams           Idaho             US  2020-04-04 23:34:21   \n",
      "\n",
      "         Lat       Long_  Confirmed  Deaths  Recovered  Active  \\\n",
      "0  34.223334  -82.461707          6       0          0       0   \n",
      "1  30.295065  -92.414197         65       2          0       0   \n",
      "2  37.767072  -75.632346          8       0          0       0   \n",
      "3  43.452658 -116.241552        360       3          0       0   \n",
      "4  41.330756  -94.471059          1       0          0       0   \n",
      "5  37.104598  -85.281297          3       0          0       0   \n",
      "6  40.190586  -92.600782         10       0          0       0   \n",
      "7  35.884942  -94.658593         14       0          0       0   \n",
      "8  39.874321 -104.336258        294       9          0       0   \n",
      "9  44.893336 -116.454525          1       0          0       0   \n",
      "\n",
      "                    Combined_Key  \n",
      "0  Abbeville, South Carolina, US  \n",
      "1          Acadia, Louisiana, US  \n",
      "2         Accomack, Virginia, US  \n",
      "3                 Ada, Idaho, US  \n",
      "4                Adair, Iowa, US  \n",
      "5            Adair, Kentucky, US  \n",
      "6            Adair, Missouri, US  \n",
      "7            Adair, Oklahoma, US  \n",
      "8            Adams, Colorado, US  \n",
      "9               Adams, Idaho, US  \n"
     ]
    }
   ],
   "source": [
    "q1 = \"\"\"SELECT * FROM csv LIMIT 10\"\"\"\n",
    "print(ps.sqldf(q1, locals()))"
   ]
  },
  {
   "cell_type": "code",
   "execution_count": 55,
   "metadata": {},
   "outputs": [
    {
     "name": "stdout",
     "output_type": "stream",
     "text": [
      "         Date Country_Region  Confirmed  Deaths\n",
      "0  2020-04-04         Canada      12978     218\n",
      "1  2020-04-04          China      82543    3330\n",
      "2  2020-04-04         France      90848    7574\n",
      "3  2020-04-04        Germany      96092    1444\n",
      "4  2020-04-04           Iran      55743    3452\n",
      "5  2020-04-04          Italy     124632   15362\n",
      "6  2020-04-04   Korea, South      10156     177\n",
      "7  2020-04-04          Spain     126168   11947\n",
      "8  2020-04-04    Switzerland      20505     666\n",
      "9  2020-04-04             US     308850    8407\n"
     ]
    }
   ],
   "source": [
    "print(ps.sqldf(\"\"\"SELECT strftime('%Y-%m-%d', last_update) as Date,country_region, SUM(Confirmed) as Confirmed, SUM(deaths) as Deaths FROM csv \n",
    "WHERE country_region in ('China','US','Canada','UK','France','Germany','Italy','Spain','Iran','Switzerland','Korea, South') GROUP BY country_region\"\"\", locals()))"
   ]
  },
  {
   "cell_type": "code",
   "execution_count": 58,
   "metadata": {},
   "outputs": [],
   "source": [
    "todate = ps.sqldf(\"\"\"SELECT strftime('%Y-%m-%d', last_update) as Date,country_region, SUM(Confirmed) as Confirmed, SUM(deaths) as Deaths FROM csv \n",
    "WHERE country_region in ('China','US','Canada','UK','France','Germany','Italy','Spain','Iran','Switzerland','Korea, South') GROUP BY country_region\"\"\", locals())"
   ]
  },
  {
   "cell_type": "code",
   "execution_count": 61,
   "metadata": {},
   "outputs": [],
   "source": [
    "todate.to_csv(\"todate.csv\",mode='a', header=False)"
   ]
  },
  {
   "cell_type": "code",
   "execution_count": null,
   "metadata": {},
   "outputs": [],
   "source": []
  }
 ],
 "metadata": {
  "kernelspec": {
   "display_name": "Python 3",
   "language": "python",
   "name": "python3"
  },
  "language_info": {
   "codemirror_mode": {
    "name": "ipython",
    "version": 3
   },
   "file_extension": ".py",
   "mimetype": "text/x-python",
   "name": "python",
   "nbconvert_exporter": "python",
   "pygments_lexer": "ipython3",
   "version": "3.7.0"
  }
 },
 "nbformat": 4,
 "nbformat_minor": 2
}
